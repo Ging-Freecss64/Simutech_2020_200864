{
 "cells": [
  {
   "cell_type": "code",
   "execution_count": 1,
   "id": "32c8b475",
   "metadata": {},
   "outputs": [],
   "source": [
    "import pandas as pd\n",
    "import numpy as np\n",
    "import matplotlib.pyplot as plt\n",
    "from sympy import symbols, Eq, solve\n",
    "import sympy as sym\n",
    "import math\n",
    "from IPython.display import display\n",
    "pd.options.display.float_format = '{:,.2f}'.format\n",
    "from numpy.linalg import inv\n",
    "from scipy.optimize import curve_fit\n",
    "from scipy.optimize import fsolve"
   ]
  },
  {
   "cell_type": "code",
   "execution_count": 2,
   "id": "ff29016e",
   "metadata": {},
   "outputs": [],
   "source": [
    "df = pd.read_csv(\"data.csv\")"
   ]
  },
  {
   "cell_type": "markdown",
   "id": "045a45d4",
   "metadata": {},
   "source": [
    "## Experimental Dataset Used:"
   ]
  },
  {
   "cell_type": "code",
   "execution_count": 3,
   "id": "96205ea0",
   "metadata": {},
   "outputs": [
    {
     "name": "stdout",
     "output_type": "stream",
     "text": [
      "    T(deg C)   x1   y1\n",
      "0      72.50 0.00 0.00\n",
      "1      67.02 0.05 0.17\n",
      "2      64.40 0.10 0.32\n",
      "3      60.23 0.20 0.53\n",
      "4      56.65 0.30 0.68\n",
      "5      53.34 0.40 0.80\n",
      "6      50.40 0.50 0.86\n",
      "7      48.12 0.60 0.92\n",
      "8      46.05 0.70 0.95\n",
      "9      44.15 0.80 0.98\n",
      "10     42.50 0.90 0.99\n",
      "11     41.90 0.95 1.00\n",
      "12     41.20 1.00 1.00\n"
     ]
    }
   ],
   "source": [
    "print(df)"
   ]
  },
  {
   "cell_type": "code",
   "execution_count": 4,
   "id": "2d060cb0",
   "metadata": {},
   "outputs": [
    {
     "name": "stdout",
     "output_type": "stream",
     "text": [
      "    T(deg C)   x1   y1   T(K)\n",
      "0      72.50 0.00 0.00 345.65\n",
      "1      67.02 0.05 0.17 340.17\n",
      "2      64.40 0.10 0.32 337.55\n",
      "3      60.23 0.20 0.53 333.38\n",
      "4      56.65 0.30 0.68 329.80\n",
      "5      53.34 0.40 0.80 326.49\n",
      "6      50.40 0.50 0.86 323.55\n",
      "7      48.12 0.60 0.92 321.27\n",
      "8      46.05 0.70 0.95 319.20\n",
      "9      44.15 0.80 0.98 317.30\n",
      "10     42.50 0.90 0.99 315.65\n",
      "11     41.90 0.95 1.00 315.05\n",
      "12     41.20 1.00 1.00 314.35\n"
     ]
    }
   ],
   "source": [
    "df['T(K)']=df['T(deg C)']+273.15\n",
    "print(df)"
   ]
  },
  {
   "cell_type": "markdown",
   "id": "7d64a0e0",
   "metadata": {},
   "source": [
    "## Values used:\n",
    "<ol>\n",
    "<li>$g_{12}$ -$g_{22}$ =$A_{12}$= 764.6865 $cal/mol$</li>\n",
    "<li>$g_{21}$ -$g_{11}$ =$A_{12}$= -226.3497 $cal/mol$</li>\n",
    "<li>R= 1.98721 $cal/mol K$</li>\n",
    "<li>$\\alpha_{12}$= $\\alpha_{21}$= $\\alpha$= 0.2993</li>\n",
    "<li>For 1-butanol, a=20.9 $barL^{2}$/$mol^{2}$ and b= 0.1323$L/mol$</li>\n",
    "<li>For methacrylic acid, a=28.9 $barL^{2}$/$mol^{2}$ and b= 0.17$L/mol$</li>\n",
    "<li>Model used for calculation of activity coeff is NRTL</li>\n",
    "<li>Pressure (assumed constant) = 20$mmHg$</li>\n",
    "</ol>"
   ]
  },
  {
   "cell_type": "markdown",
   "id": "bd7a4838",
   "metadata": {},
   "source": [
    "## Defining all the required functions\n",
    "### Keys:\n",
    "<ol>\n",
    "<li>T12= $\\tau_{12}$</li>\n",
    "<li>T21= $\\tau_{21}$</li>\n",
    "<li>Y1= $\\gamma_{1}$</li>\n",
    "<li>Y2= $\\gamma_{2}$</li>\n",
    "<li>Pb_0= Saturated pressure by 1-Butanol</li>\n",
    "<li>Pm_0= Saturated pressure by Methacrylic Acid</li>\n",
    "<li>Notation: 1-> 1-Butanol and 2-> Methacrylic Acid</li>\n",
    "<li>P_= Total pressure, given as 20mmHg</li>\n",
    "<li>Bi_b(or Bi_m)= 2nd virial coeffiecient relation with van der waals constant</li>\n",
    "<li>Phi_b(or Phi_m)= fugacity coeffiecient for components at T,P</li>\n",
    "<li>Phi_b_sat(or Phi_m_sat)= fugacity coeffiecient for components at T,P_sat</li>\n",
    "</ol>"
   ]
  },
  {
   "cell_type": "code",
   "execution_count": 5,
   "id": "90cb8689",
   "metadata": {},
   "outputs": [],
   "source": [
    "def T12(T):\n",
    "    return 764.6865/(1.98721*T)\n",
    "\n",
    "def T21(T):\n",
    "    return -226.3497/(1.98721*T)\n",
    "\n",
    "def G12(T):\n",
    "    return sym.exp(-1*0.2993*T12(T))\n",
    "\n",
    "def G21(T):\n",
    "    return sym.exp(-1*0.2993*T21(T))\n",
    "\n",
    "def Y1(x1,T):\n",
    "    return sym.exp((1-x1)**2*(T21(T)*(G21(T)/(x1+(1-x1)*G21(T)))**2 + T12(T)*G12(T)/(1-x1+x1*G12(T))**2))\n",
    "\n",
    "def Y2(x1,T):\n",
    "    return sym.exp(x1**2*(T12(T)*(G12(T)/(1-x1+x1*G12(T)))**2 + T21(T)*G21(T)/(x1+(1-x1)*G21(T))**2))\n",
    "\n",
    "def Pb_0(T):\n",
    "    T-=273.15\n",
    "    return 10**(7.838-1558.19/(T+196.881))\n",
    "\n",
    "def Pm_0(T):\n",
    "    T-=273.15\n",
    "    return 10**(8.97637-2621.47/(T+268.934))\n",
    "\n",
    "def Bi_b(T):\n",
    "    return 0.1323-(20.9/(0.083*T))\n",
    "\n",
    "def Bi_m(T):\n",
    "    return 0.17-(28.9/(0.083*T))\n",
    "\n",
    "def phi_b(T):\n",
    "    return sym.exp((Bi_b(T)*20)/(750*0.083*T))\n",
    "\n",
    "def phi_b_sat(T):\n",
    "    return sym.exp((Bi_b(T)*Pb_0(T))/(750*0.083*T))\n",
    "\n",
    "def phi_m(T):\n",
    "    return sym.exp((Bi_m(T)*20)/(750*0.083*T))\n",
    "\n",
    "def phi_m_sat(T):\n",
    "    return sym.exp((Bi_m(T)*Pm_0(T))/(750*0.083*T))"
   ]
  },
  {
   "cell_type": "markdown",
   "id": "baa450c0",
   "metadata": {},
   "source": [
    "## Ideal v-l curve:"
   ]
  },
  {
   "cell_type": "code",
   "execution_count": 6,
   "id": "daadd2df",
   "metadata": {},
   "outputs": [],
   "source": [
    "def solve1(P_, x):\n",
    "    n=0\n",
    "    tol=0.01\n",
    "    T=300\n",
    "    y1=0\n",
    "    while True:\n",
    "        y1=(x*Pb_0(T))/P_\n",
    "        y2=((1-x)*Pm_0(T))/P_\n",
    "        if(y1+y2<1+tol and y1+y2>1-tol):\n",
    "            break\n",
    "        elif(y1+y2>1+tol):\n",
    "            T-=0.01\n",
    "        else:\n",
    "            T+=0.01\n",
    "        if(n>5000):\n",
    "            break\n",
    "        n+=1\n",
    "    ans=np.array([y1,T])\n",
    "    return ans"
   ]
  },
  {
   "cell_type": "code",
   "execution_count": 7,
   "id": "89294c7a",
   "metadata": {},
   "outputs": [],
   "source": [
    "P_=20\n",
    "y1_calc1=[]\n",
    "T_calc1=[]\n",
    "for i in range(13):\n",
    "    ans=solve1(P_,df.iloc[i][1])\n",
    "    y1_calc1.append(round(ans[0],3))\n",
    "    T_calc1.append(round(ans[1],3))"
   ]
  },
  {
   "cell_type": "code",
   "execution_count": 8,
   "id": "d7b36159",
   "metadata": {},
   "outputs": [
    {
     "name": "stdout",
     "output_type": "stream",
     "text": [
      "    T(deg C)   x1   y1   T(K)  T_calc(K)_1  y_calc_1\n",
      "0      72.50 0.00 0.00 345.65       345.57      0.00\n",
      "1      67.02 0.05 0.17 340.17       341.51      0.23\n",
      "2      64.40 0.10 0.32 337.55       338.19      0.39\n",
      "3      60.23 0.20 0.53 333.38       333.01      0.59\n",
      "4      56.65 0.30 0.68 329.80       329.06      0.71\n",
      "5      53.34 0.40 0.80 326.49       325.90      0.79\n",
      "6      50.40 0.50 0.86 323.55       323.27      0.85\n",
      "7      48.12 0.60 0.92 321.27       321.04      0.89\n",
      "8      46.05 0.70 0.95 319.20       319.10      0.92\n",
      "9      44.15 0.80 0.98 317.30       317.39      0.95\n",
      "10     42.50 0.90 0.99 315.65       315.86      0.97\n",
      "11     41.90 0.95 1.00 315.05       315.15      0.98\n",
      "12     41.20 1.00 1.00 314.35       314.48      0.99\n"
     ]
    }
   ],
   "source": [
    "df['T_calc(K)_1']=pd.DataFrame(T_calc1)\n",
    "df['y_calc_1']=pd.DataFrame(y1_calc1)\n",
    "print(df)"
   ]
  },
  {
   "cell_type": "markdown",
   "id": "838fd7b5",
   "metadata": {},
   "source": [
    "### Plot:"
   ]
  },
  {
   "cell_type": "code",
   "execution_count": 9,
   "id": "2e739767",
   "metadata": {},
   "outputs": [],
   "source": [
    "x1= df['x1'].to_numpy()\n",
    "y1= df['y1'].to_numpy()\n",
    "y_calc= df['y_calc_1'].to_numpy()"
   ]
  },
  {
   "cell_type": "code",
   "execution_count": 10,
   "id": "3130ec88",
   "metadata": {},
   "outputs": [
    {
     "data": {
      "image/png": "[encoded data removed]",
      "text/plain": [
       "<Figure size 720x720 with 1 Axes>"
      ]
     },
     "metadata": {
      "needs_background": "light"
     },
     "output_type": "display_data"
    }
   ],
   "source": [
    "plt.figure(figsize=(10, 10))\n",
    "line1, = plt.plot(x1, y_calc)\n",
    "# plt.legend(handles=[line1], loc='best')\n",
    "plt.xlabel(\"x\", fontsize=13)\n",
    "plt.ylabel(\"y\",fontsize=13)\n",
    "plt.grid()\n",
    "plt.show()"
   ]
  },
  {
   "cell_type": "markdown",
   "id": "88dd79bc",
   "metadata": {},
   "source": [
    "## Non-ideal v-l curve\n"
   ]
  },
  {
   "cell_type": "code",
   "execution_count": 11,
   "id": "0530eb59",
   "metadata": {},
   "outputs": [],
   "source": [
    "def solve2(P_, x):\n",
    "    n=0\n",
    "    tol=0.01\n",
    "    T=300\n",
    "    y1=0\n",
    "    while True:\n",
    "        y1=(x*Y1(x,T)*Pb_0(T)*phi_b_sat(T))/(P_*phi_b(T))\n",
    "        y2=((1-x)*Y2(1-x,T)*Pm_0(T)*phi_m_sat(T))/(P_*phi_m(T))\n",
    "        if(y1+y2<1+tol and y1+y2>1-tol):\n",
    "            break\n",
    "        elif(y1+y2>1+tol):\n",
    "            T-=0.01\n",
    "        else:\n",
    "            T+=0.01\n",
    "        if(n>5000):\n",
    "            break\n",
    "        n+=1\n",
    "    ans=np.array([y1,T])\n",
    "    return ans"
   ]
  },
  {
   "cell_type": "code",
   "execution_count": 12,
   "id": "ee49e1b5",
   "metadata": {},
   "outputs": [],
   "source": [
    "P_=20\n",
    "y1_calc2=[]\n",
    "T_calc2=[]\n",
    "for i in range(13):\n",
    "    ans=solve2(P_,df.iloc[i][1])\n",
    "    y1_calc2.append(round(ans[0],3))\n",
    "    T_calc2.append(round(ans[1],3))"
   ]
  },
  {
   "cell_type": "code",
   "execution_count": 13,
   "id": "60f316a8",
   "metadata": {},
   "outputs": [
    {
     "name": "stdout",
     "output_type": "stream",
     "text": [
      "    T(deg C)   x1   y1   T(K)  T_calc(K)_1  y_calc_1  T_calc(K)2 y_calc2\n",
      "0      72.50 0.00 0.00 345.65       345.57      0.00      331.13       0\n",
      "1      67.02 0.05 0.17 340.17       341.51      0.23      330.13   0.196\n",
      "2      64.40 0.10 0.32 337.55       338.19      0.39      328.87   0.356\n",
      "3      60.23 0.20 0.53 333.38       333.01      0.59      326.23   0.580\n",
      "4      56.65 0.30 0.68 329.80       329.06      0.71      323.84   0.715\n",
      "5      53.34 0.40 0.80 326.49       325.90      0.79      321.85   0.799\n",
      "6      50.40 0.50 0.86 323.55       323.27      0.85      320.23   0.856\n",
      "7      48.12 0.60 0.92 321.27       321.04      0.89      318.90   0.896\n",
      "8      46.05 0.70 0.95 319.20       319.10      0.92      317.77   0.926\n",
      "9      44.15 0.80 0.98 317.30       317.39      0.95      316.73   0.951\n",
      "10     42.50 0.90 0.99 315.65       315.86      0.97      315.67   0.972\n",
      "11     41.90 0.95 1.00 315.05       315.15      0.98      315.10   0.981\n",
      "12     41.20 1.00 1.00 314.35       314.48      0.99      314.48   0.990\n"
     ]
    }
   ],
   "source": [
    "df['T_calc(K)2']=pd.DataFrame(T_calc2)\n",
    "df['y_calc2']=pd.DataFrame(y1_calc2)\n",
    "print(df)"
   ]
  },
  {
   "cell_type": "markdown",
   "id": "f8d6e7b9",
   "metadata": {},
   "source": [
    "### Plot:"
   ]
  },
  {
   "cell_type": "code",
   "execution_count": 14,
   "id": "63c0729b",
   "metadata": {},
   "outputs": [],
   "source": [
    "x1_= df['x1'].to_numpy()\n",
    "y1_= df['y1'].to_numpy()\n",
    "y_calc_= df['y_calc2'].to_numpy()"
   ]
  },
  {
   "cell_type": "code",
   "execution_count": 15,
   "id": "31b9731b",
   "metadata": {},
   "outputs": [
    {
     "data": {
      "image/png": "[encoded data removed]",
      "text/plain": [
       "<Figure size 720x720 with 1 Axes>"
      ]
     },
     "metadata": {
      "needs_background": "light"
     },
     "output_type": "display_data"
    }
   ],
   "source": [
    "plt.figure(figsize=(10, 10))\n",
    "line1, = plt.plot(x1_, y_calc_)\n",
    "# plt.legend(handles=[line1], loc='best')\n",
    "plt.xlabel(\"x\", fontsize=13)\n",
    "plt.ylabel(\"y\",fontsize=13)\n",
    "plt.grid()\n",
    "plt.show()"
   ]
  },
  {
   "cell_type": "markdown",
   "id": "8b25e8d5",
   "metadata": {},
   "source": [
    "# Q1: For non-ideal system:\n",
    "## From your previous assignment, you have drawn a Y Vs X (vapour equilibrium)curve assuming the system to be non-ideal. Now for the same selected system, you have to find the followings:\n",
    "### 1. Actual number of stages(trays) required to achieve separation(with graph) in a Distillation column with the help of McCabe-Thiele method.\n"
   ]
  },
  {
   "cell_type": "code",
   "execution_count": 16,
   "id": "c9f7609e",
   "metadata": {},
   "outputs": [],
   "source": [
    "# #example values\n",
    "# bp_c=0.2\n",
    "# f_c=0.5\n",
    "# tp_c=0.8\n",
    "# R=0.289\n",
    "# slope=R/(R+1)\n",
    "# inter=tp_c/(R+1)"
   ]
  },
  {
   "cell_type": "code",
   "execution_count": 44,
   "id": "807538a0",
   "metadata": {},
   "outputs": [
    {
     "name": "stdout",
     "output_type": "stream",
     "text": [
      "Please enter Bottom product composition: 0.1\n",
      "Please enter feed composition: 0.4\n",
      "Please enter Top product composition: 0.9\n",
      "Please enter Reflux ratio: 0.88\n"
     ]
    }
   ],
   "source": [
    "# for taking inputs\n",
    "bp_c= float(input(\"Please enter Bottom product composition: \"))\n",
    "f_c= float(input(\"Please enter feed composition: \"))\n",
    "tp_c= float(input(\"Please enter Top product composition: \"))\n",
    "R= float(input(\"Please enter Reflux ratio: \"))\n",
    "slope=R/(R+1)\n",
    "inter=tp_c/(R+1)"
   ]
  },
  {
   "cell_type": "code",
   "execution_count": 18,
   "id": "58a9d492",
   "metadata": {},
   "outputs": [
    {
     "name": "stdout",
     "output_type": "stream",
     "text": [
      "2.2520716834757994 -4.811283161692931 3.542310058178783 0.02514567531963564\n"
     ]
    }
   ],
   "source": [
    "def objective(x, a, b, c, d):\n",
    "    return a * (x**3) + b*(x**2) + c*x + d\n",
    "popt, _ = curve_fit(objective, x1, y_calc_)\n",
    "a, b,c,d = popt\n",
    "print(a,b,c,d)"
   ]
  },
  {
   "cell_type": "code",
   "execution_count": 23,
   "id": "a1c990b2",
   "metadata": {},
   "outputs": [],
   "source": [
    "def f_(z):\n",
    "    x,y = z\n",
    "    return [y+x-2*f_c,y-a*x**3-b*(x**2)-c*x-d]\n",
    "\n",
    "def _f_(z):\n",
    "    x,y = z\n",
    "    return [y-(slope*x+inter),y+x-2*f_c]"
   ]
  },
  {
   "cell_type": "code",
   "execution_count": 24,
   "id": "0126edce",
   "metadata": {},
   "outputs": [],
   "source": [
    "# feed line\n",
    "l=fsolve(f_,[1,1])[0]\n",
    "f_x=np.linspace(l,f_c,100)\n",
    "f_y=-1*f_x+2*f_c"
   ]
  },
  {
   "cell_type": "code",
   "execution_count": 25,
   "id": "e0358c0d",
   "metadata": {},
   "outputs": [],
   "source": [
    "# enriching section\n",
    "# take reflux ration from the user\n",
    "z=fsolve(_f_,[1,1])\n",
    "l=z[0]\n",
    "t=z[1]\n",
    "el_x=np.linspace(l,tp_c,100)\n",
    "el_y=slope*el_x+inter"
   ]
  },
  {
   "cell_type": "code",
   "execution_count": 26,
   "id": "82baa5a4",
   "metadata": {},
   "outputs": [],
   "source": [
    "#stripping section\n",
    "sc_x=np.linspace(bp_c,l,100)\n",
    "#(bp_c,bp_c)(l,t)\n",
    "sl=(t-bp_c)/(l-bp_c)\n",
    "it=((l-t)/(l-bp_c))*bp_c\n",
    "sc_y=sl*sc_x+it"
   ]
  },
  {
   "cell_type": "code",
   "execution_count": 27,
   "id": "faa47975",
   "metadata": {},
   "outputs": [],
   "source": [
    "#making stepping down plot\n",
    "# for horizontal line\n",
    "def f1(z,t):\n",
    "    x,y = z\n",
    "    return [y-t,y-a*x**3-b*(x**2)-c*x-d]\n",
    "\n",
    "# for vertical line with enriching line\n",
    "def f2(z,t):\n",
    "    x,y = z\n",
    "    return [x-t,y-((R/(R+1))*x+tp_c/(R+1))]\n",
    "\n",
    "#for vertical line with stripping section\n",
    "def f3(z,t):\n",
    "    x,y = z\n",
    "    return [x-t,y-sl*x-it]"
   ]
  },
  {
   "cell_type": "code",
   "execution_count": 28,
   "id": "f8b15ac3",
   "metadata": {},
   "outputs": [
    {
     "data": {
      "image/png": "[encoded data removed]",
      "text/plain": [
       "<Figure size 864x576 with 1 Axes>"
      ]
     },
     "metadata": {
      "needs_background": "light"
     },
     "output_type": "display_data"
    }
   ],
   "source": [
    "x = np.linspace(0,1,100)\n",
    "y = x\n",
    "fig, ax = plt.subplots(figsize=(12, 8))\n",
    "ax.plot(x, y,color=\"0.5\")\n",
    "ax.plot(f_x,f_y,color=\"0.5\")\n",
    "ax.plot(el_x,el_y,color=\"g\")\n",
    "ax.plot(sc_x,sc_y,color=\"m\")\n",
    "x_=tp_c\n",
    "y_=tp_c\n",
    "f=0\n",
    "count=0\n",
    "while x_>=bp_c:\n",
    "    if f==0:\n",
    "        z=fsolve(f1,[1,1],y_)\n",
    "        plt.axhline(y=y_,xmin=z[0],xmax=x_, color = 'b', linestyle = '-')\n",
    "        x_=z[0]\n",
    "        y_=z[1]\n",
    "        f=1\n",
    "        continue\n",
    "    if f==1:\n",
    "        count+=1\n",
    "        if x_>=l and x_<=tp_c:\n",
    "            z=fsolve(f2,[1,1],x_)\n",
    "            plt.axvline(x = x_,ymin=z[1],ymax=y_, color = 'b', linestyle = '-')\n",
    "            x_=z[0]\n",
    "            y_=z[1]\n",
    "            f=0 \n",
    "            continue\n",
    "        if x_<l:\n",
    "            z=fsolve(f3,[1,1],x_)\n",
    "            plt.axvline(x = x_,ymin=z[1],ymax=y_, color = 'b', linestyle = '-')\n",
    "            x_=z[0]\n",
    "            y_=z[1]\n",
    "            f=0 \n",
    "            continue\n",
    "            \n",
    "ax.set_ylim(bottom=0,top=1)\n",
    "ax.set_xlim(left=0,right=1)\n",
    "plt.axvline(x = bp_c,ymin=0,ymax=bp_c, color = '0.5', linestyle = '-')\n",
    "plt.axvline(x = f_c,ymin=0,ymax=f_c, color = '0.5', linestyle = '-')\n",
    "plt.axvline(x = tp_c,ymin=0,ymax=tp_c, color = '0.5', linestyle = '-')\n",
    "plt.plot(0, f_c,color=\"0.5\")\n",
    "plt.plot(0, tp_c,color=\"0.5\")\n",
    "plt.plot(x1, y_calc_,color=\"r\")\n",
    "plt.xlabel(\"x\", fontsize=15)\n",
    "plt.ylabel(\"y\",fontsize=15)\n",
    "plt.grid()\n",
    "plt.show()"
   ]
  },
  {
   "cell_type": "code",
   "execution_count": 29,
   "id": "55167427",
   "metadata": {},
   "outputs": [
    {
     "name": "stdout",
     "output_type": "stream",
     "text": [
      "9\n"
     ]
    }
   ],
   "source": [
    "#Number of trays used\n",
    "print(count+1)"
   ]
  },
  {
   "cell_type": "markdown",
   "id": "8937e684",
   "metadata": {},
   "source": [
    "### 2. Minimum number of stages(trays) required to achieve their separation (with graph)\n"
   ]
  },
  {
   "cell_type": "code",
   "execution_count": 30,
   "id": "a11f51b9",
   "metadata": {},
   "outputs": [],
   "source": [
    "def f3(z,t):\n",
    "    x,y = z\n",
    "    return [x-t,y-x]"
   ]
  },
  {
   "cell_type": "code",
   "execution_count": 31,
   "id": "a95594e4",
   "metadata": {},
   "outputs": [
    {
     "data": {
      "image/png": "[encoded data removed]",
      "text/plain": [
       "<Figure size 864x576 with 1 Axes>"
      ]
     },
     "metadata": {
      "needs_background": "light"
     },
     "output_type": "display_data"
    }
   ],
   "source": [
    "x = np.linspace(0,1,100)\n",
    "y = x\n",
    "fig, ax = plt.subplots(figsize=(12, 8))\n",
    "ax.plot(x, y,color=\"0.5\")\n",
    "x_=tp_c\n",
    "y_=tp_c\n",
    "f=0\n",
    "count=0\n",
    "while x_>=bp_c:\n",
    "    if f==0:\n",
    "        z=fsolve(f1,[1,1],y_)\n",
    "        plt.axhline(y=y_,xmin=z[0],xmax=x_, color = 'b', linestyle = '-')\n",
    "        x_=z[0]\n",
    "        y_=z[1]\n",
    "        f=1\n",
    "        continue\n",
    "    if f==1:\n",
    "        count+=1\n",
    "        z=fsolve(f3,[1,1],x_)\n",
    "        plt.axvline(x = x_,ymin=z[1],ymax=y_, color = 'b', linestyle = '-')\n",
    "        x_=z[0]\n",
    "        y_=z[1]\n",
    "        f=0 \n",
    "        continue \n",
    "ax.set_ylim(bottom=0,top=1)\n",
    "ax.set_xlim(left=0,right=1)\n",
    "plt.axvline(x = bp_c,ymin=0,ymax=bp_c, color = '0.5', linestyle = '-')\n",
    "plt.axvline(x = f_c,ymin=0,ymax=f_c, color = '0.5', linestyle = '-')\n",
    "plt.axvline(x = tp_c,ymin=0,ymax=tp_c, color = '0.5', linestyle = '-')\n",
    "plt.plot(0, f_c,color=\"0.5\")\n",
    "plt.plot(0, tp_c,color=\"0.5\")\n",
    "plt.plot(x1, y_calc_,color=\"r\")\n",
    "plt.xlabel(\"x\", fontsize=15)\n",
    "plt.ylabel(\"y\",fontsize=15)\n",
    "plt.grid()\n",
    "plt.show()"
   ]
  },
  {
   "cell_type": "code",
   "execution_count": 32,
   "id": "f6c717fc",
   "metadata": {},
   "outputs": [
    {
     "name": "stdout",
     "output_type": "stream",
     "text": [
      "3\n"
     ]
    }
   ],
   "source": [
    "## Minimum number of trays used\n",
    "print(count+1)"
   ]
  },
  {
   "cell_type": "markdown",
   "id": "0b712fa1",
   "metadata": {},
   "source": [
    "### 3. Minimum Reflux Ratio"
   ]
  },
  {
   "cell_type": "code",
   "execution_count": 34,
   "id": "82bd30c3",
   "metadata": {},
   "outputs": [
    {
     "name": "stdout",
     "output_type": "stream",
     "text": [
      "0.8468526028967284\n"
     ]
    }
   ],
   "source": [
    "z=fsolve(f_,[1,1])\n",
    "x11=z[0]\n",
    "y11=z[1]\n",
    "#(x11,y11)(tp_c,tp_c)\n",
    "sp=(tp_c-y11)/(tp_c-x11)\n",
    "R_min=sp/(1-sp)\n",
    "print(R_min)"
   ]
  },
  {
   "cell_type": "markdown",
   "id": "6256ffd0",
   "metadata": {},
   "source": [
    "# Q2 : For ideal system:\n",
    "### 1."
   ]
  },
  {
   "cell_type": "code",
   "execution_count": 45,
   "id": "0029937b",
   "metadata": {},
   "outputs": [
    {
     "name": "stdout",
     "output_type": "stream",
     "text": [
      "2.2644595820893563 -4.754919273156312 3.455149217569548 0.04710822368363786\n"
     ]
    }
   ],
   "source": [
    "def objective(x, a, b, c, d):\n",
    "    return a * (x**3) + b*(x**2) + c*x + d\n",
    "popt, _ = curve_fit(objective, x1, y_calc)\n",
    "a, b,c,d = popt\n",
    "print(a,b,c,d)"
   ]
  },
  {
   "cell_type": "code",
   "execution_count": 46,
   "id": "9c918121",
   "metadata": {},
   "outputs": [],
   "source": [
    "def f_(z):\n",
    "    x,y = z\n",
    "    return [y+x-2*f_c,y-a*x**3-b*(x**2)-c*x-d]\n",
    "\n",
    "def _f_(z):\n",
    "    x,y = z\n",
    "    return [y-(slope*x+inter),y+x-2*f_c]"
   ]
  },
  {
   "cell_type": "code",
   "execution_count": 47,
   "id": "cc422a9a",
   "metadata": {},
   "outputs": [],
   "source": [
    "# feed line\n",
    "l=fsolve(f_,[1,1])[0]\n",
    "f_x=np.linspace(l,f_c,100)\n",
    "f_y=-1*f_x+2*f_c"
   ]
  },
  {
   "cell_type": "code",
   "execution_count": 48,
   "id": "3b236d3a",
   "metadata": {},
   "outputs": [],
   "source": [
    "# enriching section\n",
    "# take reflux ration from the user\n",
    "z=fsolve(_f_,[1,1])\n",
    "l=z[0]\n",
    "t=z[1]\n",
    "el_x=np.linspace(l,tp_c,100)\n",
    "el_y=slope*el_x+inter"
   ]
  },
  {
   "cell_type": "code",
   "execution_count": 49,
   "id": "8da65340",
   "metadata": {},
   "outputs": [],
   "source": [
    "#stripping section\n",
    "sc_x=np.linspace(bp_c,l,100)\n",
    "#(bp_c,bp_c)(l,t)\n",
    "sl=(t-bp_c)/(l-bp_c)\n",
    "it=((l-t)/(l-bp_c))*bp_c\n",
    "sc_y=sl*sc_x+it"
   ]
  },
  {
   "cell_type": "code",
   "execution_count": 50,
   "id": "30a8c566",
   "metadata": {},
   "outputs": [],
   "source": [
    "#making stepping down plot\n",
    "# for horizontal line\n",
    "def f1(z,t):\n",
    "    x,y = z\n",
    "    return [y-t,y-a*x**3-b*(x**2)-c*x-d]\n",
    "\n",
    "# for vertical line with enriching line\n",
    "def f2(z,t):\n",
    "    x,y = z\n",
    "    return [x-t,y-((R/(R+1))*x+tp_c/(R+1))]\n",
    "\n",
    "#for vertical line with stripping section\n",
    "def f3(z,t):\n",
    "    x,y = z\n",
    "    return [x-t,y-sl*x-it]"
   ]
  },
  {
   "cell_type": "code",
   "execution_count": 51,
   "id": "e1c17a90",
   "metadata": {},
   "outputs": [
    {
     "data": {
      "image/png": "[encoded data removed]",
      "text/plain": [
       "<Figure size 864x576 with 1 Axes>"
      ]
     },
     "metadata": {
      "needs_background": "light"
     },
     "output_type": "display_data"
    }
   ],
   "source": [
    "x = np.linspace(0,1,100)\n",
    "y = x\n",
    "fig, ax = plt.subplots(figsize=(12, 8))\n",
    "ax.plot(x, y,color=\"0.5\")\n",
    "ax.plot(f_x,f_y,color=\"0.5\")\n",
    "ax.plot(el_x,el_y,color=\"g\")\n",
    "ax.plot(sc_x,sc_y,color=\"m\")\n",
    "x_=tp_c\n",
    "y_=tp_c\n",
    "f=0\n",
    "count=0\n",
    "while x_>=bp_c:\n",
    "    if f==0:\n",
    "        z=fsolve(f1,[1,1],y_)\n",
    "        plt.axhline(y=y_,xmin=z[0],xmax=x_, color = 'b', linestyle = '-')\n",
    "        x_=z[0]\n",
    "        y_=z[1]\n",
    "        f=1\n",
    "        continue\n",
    "    if f==1:\n",
    "        count+=1\n",
    "        if x_>=l and x_<=tp_c:\n",
    "            z=fsolve(f2,[1,1],x_)\n",
    "            plt.axvline(x = x_,ymin=z[1],ymax=y_, color = 'b', linestyle = '-')\n",
    "            x_=z[0]\n",
    "            y_=z[1]\n",
    "            f=0 \n",
    "            continue\n",
    "        if x_<l:\n",
    "            z=fsolve(f3,[1,1],x_)\n",
    "            plt.axvline(x = x_,ymin=z[1],ymax=y_, color = 'b', linestyle = '-')\n",
    "            x_=z[0]\n",
    "            y_=z[1]\n",
    "            f=0 \n",
    "            continue\n",
    "            \n",
    "ax.set_ylim(bottom=0,top=1)\n",
    "ax.set_xlim(left=0,right=1)\n",
    "plt.axvline(x = bp_c,ymin=0,ymax=bp_c, color = '0.5', linestyle = '-')\n",
    "plt.axvline(x = f_c,ymin=0,ymax=f_c, color = '0.5', linestyle = '-')\n",
    "plt.axvline(x = tp_c,ymin=0,ymax=tp_c, color = '0.5', linestyle = '-')\n",
    "plt.plot(0, f_c,color=\"0.5\")\n",
    "plt.plot(0, tp_c,color=\"0.5\")\n",
    "plt.plot(x1, y_calc_,color=\"r\")\n",
    "plt.xlabel(\"x\", fontsize=15)\n",
    "plt.ylabel(\"y\",fontsize=15)\n",
    "plt.grid()\n",
    "plt.show()"
   ]
  },
  {
   "cell_type": "code",
   "execution_count": 52,
   "id": "36c099c7",
   "metadata": {},
   "outputs": [
    {
     "name": "stdout",
     "output_type": "stream",
     "text": [
      "8\n"
     ]
    }
   ],
   "source": [
    "## Number of trays used\n",
    "print(count+1)"
   ]
  },
  {
   "cell_type": "markdown",
   "id": "a8270eda",
   "metadata": {},
   "source": [
    "### 2."
   ]
  },
  {
   "cell_type": "code",
   "execution_count": 53,
   "id": "2a38b076",
   "metadata": {},
   "outputs": [],
   "source": [
    "def f3(z,t):\n",
    "    x,y = z\n",
    "    return [x-t,y-x]"
   ]
  },
  {
   "cell_type": "code",
   "execution_count": 54,
   "id": "b52c540e",
   "metadata": {},
   "outputs": [
    {
     "data": {
      "image/png": "[encoded data removed]",
      "text/plain": [
       "<Figure size 864x576 with 1 Axes>"
      ]
     },
     "metadata": {
      "needs_background": "light"
     },
     "output_type": "display_data"
    }
   ],
   "source": [
    "x = np.linspace(0,1,100)\n",
    "y = x\n",
    "fig, ax = plt.subplots(figsize=(12, 8))\n",
    "ax.plot(x, y,color=\"0.5\")\n",
    "x_=tp_c\n",
    "y_=tp_c\n",
    "f=0\n",
    "count=0\n",
    "while x_>=bp_c:\n",
    "    if f==0:\n",
    "        z=fsolve(f1,[1,1],y_)\n",
    "        plt.axhline(y=y_,xmin=z[0],xmax=x_, color = 'b', linestyle = '-')\n",
    "        x_=z[0]\n",
    "        y_=z[1]\n",
    "        f=1\n",
    "        continue\n",
    "    if f==1:\n",
    "        count+=1\n",
    "        z=fsolve(f3,[1,1],x_)\n",
    "        plt.axvline(x = x_,ymin=z[1],ymax=y_, color = 'b', linestyle = '-')\n",
    "        x_=z[0]\n",
    "        y_=z[1]\n",
    "        f=0 \n",
    "        continue \n",
    "ax.set_ylim(bottom=0,top=1)\n",
    "ax.set_xlim(left=0,right=1)\n",
    "plt.axvline(x = bp_c,ymin=0,ymax=bp_c, color = '0.5', linestyle = '-')\n",
    "plt.axvline(x = f_c,ymin=0,ymax=f_c, color = '0.5', linestyle = '-')\n",
    "plt.axvline(x = tp_c,ymin=0,ymax=tp_c, color = '0.5', linestyle = '-')\n",
    "plt.plot(0, f_c,color=\"0.5\")\n",
    "plt.plot(0, tp_c,color=\"0.5\")\n",
    "plt.plot(x1, y_calc_,color=\"r\")\n",
    "plt.xlabel(\"x\", fontsize=15)\n",
    "plt.ylabel(\"y\",fontsize=15)\n",
    "plt.grid()\n",
    "plt.show()"
   ]
  },
  {
   "cell_type": "code",
   "execution_count": 55,
   "id": "acd7394f",
   "metadata": {},
   "outputs": [
    {
     "name": "stdout",
     "output_type": "stream",
     "text": [
      "3\n"
     ]
    }
   ],
   "source": [
    "## Minimum number of trays used\n",
    "print(count+1)"
   ]
  },
  {
   "cell_type": "markdown",
   "id": "46faa98d",
   "metadata": {},
   "source": [
    "### 3."
   ]
  },
  {
   "cell_type": "code",
   "execution_count": 57,
   "id": "64823dd3",
   "metadata": {},
   "outputs": [
    {
     "name": "stdout",
     "output_type": "stream",
     "text": [
      "0.88\n"
     ]
    }
   ],
   "source": [
    "z=fsolve(f_,[1,1])\n",
    "x11=z[0]\n",
    "y11=z[1]\n",
    "#(x11,y11)(tp_c,tp_c)\n",
    "sp=(tp_c-y11)/(tp_c-x11)\n",
    "R_min=sp/(1-sp)\n",
    "print(R)"
   ]
  }
 ],
 "metadata": {
  "kernelspec": {
   "display_name": "Python 3",
   "language": "python",
   "name": "python3"
  },
  "language_info": {
   "codemirror_mode": {
    "name": "ipython",
    "version": 3
   },
   "file_extension": ".py",
   "mimetype": "text/x-python",
   "name": "python",
   "nbconvert_exporter": "python",
   "pygments_lexer": "ipython3",
   "version": "3.8.8"
  }
 },
 "nbformat": 4,
 "nbformat_minor": 5
}
